{
 "cells": [
  {
   "cell_type": "markdown",
   "id": "cf56e839",
   "metadata": {},
   "source": [
    "1. How do you distinguish between shutil.copy() and shutil.copytree()?"
   ]
  },
  {
   "cell_type": "markdown",
   "id": "5c98fed7",
   "metadata": {},
   "source": [
    "Ans - The shutil.copy() function copy a single file whereas shutil.copytree() copies whole directory and all it's contents."
   ]
  },
  {
   "cell_type": "markdown",
   "id": "4445f4a9",
   "metadata": {},
   "source": [
    "2. What function is used to rename files?"
   ]
  },
  {
   "cell_type": "markdown",
   "id": "732c01fc",
   "metadata": {},
   "source": [
    "Ans - rename() function is used to rename a file."
   ]
  },
  {
   "cell_type": "markdown",
   "id": "c606b2ea",
   "metadata": {},
   "source": [
    "3. What is the difference between the delete functions in the send2trash and shutil modules?"
   ]
  },
  {
   "cell_type": "markdown",
   "id": "e9817865",
   "metadata": {},
   "source": [
    "Ans - delete function sends files to recycle bin whereas shutil permanenet deletes teh file or folder."
   ]
  },
  {
   "cell_type": "markdown",
   "id": "8e936b49",
   "metadata": {},
   "source": [
    "4.ZipFile objects have a close() method just like File objects’ close() method. What ZipFile method is equivalent to File objects’ open() method?"
   ]
  },
  {
   "cell_type": "markdown",
   "id": "25548ca0",
   "metadata": {},
   "source": [
    "Ans - OpenRead(string) method is equivalent to File objects open() method"
   ]
  },
  {
   "cell_type": "markdown",
   "id": "b248ad16",
   "metadata": {},
   "source": [
    "5. Create a programme that searches a folder tree for files with a certain file extension (such as .pdf or .jpg). Copy these files from whatever location they are in to a new folder."
   ]
  },
  {
   "cell_type": "code",
   "execution_count": 3,
   "id": "19d10c20",
   "metadata": {},
   "outputs": [
    {
     "name": "stdout",
     "output_type": "stream",
     "text": [
      "looking in C:\\Users\\abhishek\\Assignment_pythan_basics\\randomfolder for files with extension of .pdf, .jpg\n"
     ]
    }
   ],
   "source": [
    "import os\n",
    "import shutil\n",
    "\n",
    "def filelooker(folder, extension,destfolder):\n",
    "    folder = os.path.abspath(folder)\n",
    "    destfolder = os.path.abspath(destfolder)\n",
    "    print('looking in' , folder, 'for files with extension of', ', '.join(extension))\n",
    "    for foldename, subfolders, filenames in os.walk(folder):\n",
    "        for filename in filenames:\n",
    "            name, extension = os.path.splitext(filename)\n",
    "            if extension in extensions:\n",
    "                fileAbsPath = foldername = os.path.sep = filename\n",
    "                print('coping' , fileAbsPath, 'to', destfolder)\n",
    "                shutil.copy(fileAbsPath, destfolder)\n",
    "                \n",
    "extensions = ['.pdf' , '.jpg']\n",
    "folder = 'randomfolder'\n",
    "destfolder = 'selectivefolder'\n",
    "filelooker(folder, extensions, destfolder)"
   ]
  },
  {
   "cell_type": "code",
   "execution_count": null,
   "id": "4f3677c0",
   "metadata": {},
   "outputs": [],
   "source": []
  }
 ],
 "metadata": {
  "kernelspec": {
   "display_name": "Python 3 (ipykernel)",
   "language": "python",
   "name": "python3"
  },
  "language_info": {
   "codemirror_mode": {
    "name": "ipython",
    "version": 3
   },
   "file_extension": ".py",
   "mimetype": "text/x-python",
   "name": "python",
   "nbconvert_exporter": "python",
   "pygments_lexer": "ipython3",
   "version": "3.9.7"
  }
 },
 "nbformat": 4,
 "nbformat_minor": 5
}
